{
 "cells": [
  {
   "cell_type": "markdown",
   "metadata": {},
   "source": [
    "# Universally robust identity gate with $X$ and $Y$ control\n",
    "\n",
    "This file contains an example use case of the project. The setting here is that we have a qubit (quantum bit) with two control generators given by Pauli $X$ and Pauli $Y$ matrices. The goal is to find a control sequence implementing an identity gate that is robust all variations in the generator at first order.\n",
    "\n",
    "The interface with the code is not well developed, but this example demonstrates roughly how I picture the code to be used; as expected use cases can vary heavily, the idea is to provide various tools to make it easy to construct control problems."
   ]
  },
  {
   "cell_type": "code",
   "execution_count": 1,
   "metadata": {},
   "outputs": [],
   "source": [
    "# first, add the project the path\n",
    "import sys\n",
    "sys.path.append('../')\n",
    "\n",
    "# functions from outside the project that we'll need\n",
    "from math import pi\n",
    "from numpy import zeros,real, identity\n",
    "from numpy.random import rand"
   ]
  },
  {
   "cell_type": "markdown",
   "metadata": {},
   "source": [
    "# Define the control system\n",
    "\n",
    "First define the control system. It has 0 drift generators, and two control generators given by $-i\\pi X$ and $-i\\pi Y$.\n",
    "\n",
    "Afterwards, define the decoupling system, which is derived from the base system, and computes first order robustness terms for $-i \\pi X$, $-i \\pi Y$, and $-i \\pi Z$. The universal property of the sequence comes from these matrices being a basis for traceless $2 \\times 2$ Hermitian matrices."
   ]
  },
  {
   "cell_type": "code",
   "execution_count": 2,
   "metadata": {},
   "outputs": [],
   "source": [
    "import hamiltonians as h # a file containing Pauli matrices\n",
    "from control_system import control_system # the control_system object\n",
    "\n",
    "drift_generator = zeros((2,2)) # zero generator\n",
    "control_generators = [-1j*pi*h.pauliX(),-1j*pi*h.pauliY()] # pauli X control generator\n",
    "xy_sys = control_system(drift_generator, control_generators) # create control_system instance\n",
    "\n",
    "# Define the derived decoupling system\n",
    "xy_univ_dec = xy_sys.decoupling_system([-1j*pi*h.pauliX(), -1j*pi*h.pauliY(),-1j*pi*h.pauliZ()])"
   ]
  },
  {
   "cell_type": "markdown",
   "metadata": {},
   "source": [
    "# Set parameters of search\n",
    "The parameters we require:\n",
    "1. Number of time steps, $N$\n",
    "2. Length of each time step, $dt$\n",
    "3. Target gate $U_{target}$\n",
    "4. Bounds on the absolute value of the control amplitudes and tolerance\n",
    "5. Bounds on the rate of change of the control amplitudes and tolerance\n",
    "\n",
    "Note that, aside from number of time steps, the parameters set here are essentially arbitrary, and in practice would be set by the physical system of interest. The number of time steps here was arrived at by running the search on various values, until a value of $N$ was found for which:\n",
    "1. The objective function can be optimized to the best possible value.\n",
    "2. Decreasing $N$ by $1$ results in no (currently tested) searches achieving the best possible  objective value.\n",
    "Hence, the above two points suggest that the current value of $N$ is roughly the shortest possible value for which a control sequence with the desired properties exists."
   ]
  },
  {
   "cell_type": "code",
   "execution_count": 3,
   "metadata": {},
   "outputs": [],
   "source": [
    "N=76 # number time steps\n",
    "dt = 0.05 # time step length\n",
    "\n",
    "# bounds on power and tolerance.\n",
    "# Note the first entry in the upper/lower bounds is for the first control amplitude,\n",
    "# and the second is for the second. The same tolerance is used for both.\n",
    "power_ub = [1,1] # upper bounds\n",
    "power_lb = [-1,-1] # lower bounds\n",
    "power_tol = 0.0005 # tolerance\n",
    "\n",
    "# bounds on rate of change\n",
    "change_b = [0.05,0.05] # rate of change bounds for each amplitude\n",
    "change_tol = 0.0005 # tolerance\n",
    "\n",
    "\n",
    "# target gate\n",
    "Utarget = identity(2)\n",
    "\n",
    "# set a variable storing the shape of a control sequence array\n",
    "# ctrl_shape = (# time steps, # control amplitudes)\n",
    "ctrl_shape = (N, 2)"
   ]
  },
  {
   "cell_type": "markdown",
   "metadata": {},
   "source": [
    "# Define the objective\n",
    "\n",
    "Next, define the objective. Components of the objective are:\n",
    "1. Optimizing the final gate to be identity.\n",
    "2. Optimizing terms in the derived decoupling system quantifying robustness to $X,Y,Z$ be $0$\n",
    "3. Constraints on amplitude of the control sequence implemented as penalties.\n",
    "\n",
    "Note that objectives are currently assumed to take in a 2d array of shape ctrl_shape, and output a tuple (val, vald), where val is the value of the objective at the input, and vald is the jacobian of the objective at the input."
   ]
  },
  {
   "cell_type": "code",
   "execution_count": 4,
   "metadata": {},
   "outputs": [],
   "source": [
    "# import functions from the package to help\n",
    "from evolve_system import evolve_system # computes system propagator and derivatives\n",
    "from objective_functions import grape_objective, zero_block_objective # for gate and decoupling optimization\n",
    "from constraint_functions import mono_objective as penalty # for constraints as penalties\n",
    "\n",
    "# Construct an objective using the ingredients provided by the project\n",
    "def obj(x):\n",
    "    prop = evolve_system(xy_univ_dec, x, dt, deriv = 1) #evolve the system\n",
    "\n",
    "    Ufinal = prop[0][0:2,0:2] # extract final unitary\n",
    "    Uderiv = prop[1][:,:,0:2,0:2] # extract jacobian of final unitary\n",
    "\n",
    "    # final gate objective\n",
    "    g,gp = grape_objective(Utarget, (Ufinal, Uderiv), deriv = 1)\n",
    "    \n",
    "    # first order robustness to variations in X,Y,Z\n",
    "    decx,decxd= zero_block_objective(prop, 2, 0,1, deriv = 1)\n",
    "    decy,decyd= zero_block_objective(prop, 2, 1,2, deriv = 1)\n",
    "    decz,deczd= zero_block_objective(prop, 2, 2,3, deriv = 1)\n",
    "    dec = decx+ decy+decz # total robustness value\n",
    "    decd = decxd + decyd + deczd # total robustness jacobian\n",
    "\n",
    "    # constraints as penalties\n",
    "    shape,shaped = penalty(x, power_lb, power_ub, power_tol, change_b, change_tol, deriv = 1)\n",
    "\n",
    "    # return a weighted combination (to be used in minimization)\n",
    "    return real(-g + dec + shape/100), real(-gp + decd + shaped/100)"
   ]
  },
  {
   "cell_type": "markdown",
   "metadata": {},
   "source": [
    "# Run the optimization\n",
    "\n",
    "Currently, the optimizer used is the implementation of BFGS available in SciPy.\n",
    "\n",
    "Note:\n",
    "1. Best possible value of this objective is $-4$.\n",
    "2. With current parameters, often finds a solution within $10^{-10}$ of $-4$, but as the number of time steps seems to be at the edge of what is possible, it will not always find a good solution, and will need to be run again. In my experience, the runs that find a good solution usually get pretty close to -4 within 1000 function evalutions, though may still take close to 3000 to finish. Runs that don't get close to the optimal value within 1000-2000 evaluations seem to never converge to the optimal value, or at least take so long that it is worth restarting with a new initial guess."
   ]
  },
  {
   "cell_type": "code",
   "execution_count": 14,
   "metadata": {},
   "outputs": [
    {
     "name": "stdout",
     "output_type": "stream",
     "text": [
      "Optimizing pulse...\n",
      "Value at evaluation 200: 331.58165269838736\n",
      "Value at evaluation 400: 154.57459636945134\n",
      "Value at evaluation 600: -2.6224463685685837\n",
      "Value at evaluation 800: -3.970232689241906\n",
      "Value at evaluation 1000: -3.9968098261768534\n",
      "Value at evaluation 1200: -3.998978892068816\n",
      "Value at evaluation 1400: -3.999616752627089\n",
      "Value at evaluation 1600: -3.9999711690466713\n",
      "Value at evaluation 1800: -3.999999977585192\n",
      "Optimization terminated successfully.\n",
      "         Current function value: -4.000000\n",
      "         Iterations: 1338\n",
      "         Function evaluations: 1898\n",
      "         Gradient evaluations: 1898\n",
      "Total time taken: 66.76577591896057\n"
     ]
    }
   ],
   "source": [
    "# import the optimizer\n",
    "from pulse_finders import find_pulse_bfgs\n",
    "\n",
    "update_rate = 200 # rate of printed updates\n",
    "initial_guess = rand(*ctrl_shape)*change_b*0.5 # random initial guess\n",
    "\n",
    "results = find_pulse_bfgs(obj, ctrl_shape, initial_guess, update_rate) # run optimization"
   ]
  },
  {
   "cell_type": "code",
   "execution_count": 15,
   "metadata": {},
   "outputs": [
    {
     "data": {
      "text/plain": [
       "2.3856472353145364e-12"
      ]
     },
     "execution_count": 15,
     "metadata": {},
     "output_type": "execute_result"
    }
   ],
   "source": [
    "amps = results.x # get the control sequence from the results object\n",
    "4+results.fun # how close the value achieved is to the optimal"
   ]
  },
  {
   "cell_type": "markdown",
   "metadata": {},
   "source": [
    "Check the values for the individual parts of the objective:"
   ]
  },
  {
   "cell_type": "code",
   "execution_count": 16,
   "metadata": {
    "scrolled": true
   },
   "outputs": [
    {
     "name": "stdout",
     "output_type": "stream",
     "text": [
      "Unperturbed gate fidelity: 0.9999999999997635\n",
      "Unperturbed gate infidelity: 2.3647750424515834e-13\n",
      "Frobenius norm squared for X term: 9.272287678868764e-13\n",
      "Frobenius norm squared for Y term: 3.4056979918560915e-13\n",
      "Frobenius norm squared for Z term: 1.6860583339154384e-13\n"
     ]
    }
   ],
   "source": [
    "prop = evolve_system(xy_univ_dec, amps, dt, deriv = 0)\n",
    "\n",
    "Ufinal = prop[0:2,0:2] # extract final unitary\n",
    "\n",
    "# final gate objective\n",
    "g = grape_objective(Utarget, Ufinal, deriv = 0)\n",
    "    \n",
    "# first order robustness to variations in X,Y,Z\n",
    "decx = zero_block_objective(prop, 2, 0,1, deriv = 0)\n",
    "decy= zero_block_objective(prop, 2, 1,2, deriv = 0)\n",
    "decz= zero_block_objective(prop, 2, 2,3, deriv = 0)\n",
    "\n",
    "print('Unperturbed gate fidelity: ' + str(g/4))\n",
    "print('Unperturbed gate infidelity: ' + str(1-g/4))\n",
    "print('Frobenius norm squared for X term: ' + str(decx))\n",
    "print('Frobenius norm squared for Y term: ' + str(decy))\n",
    "print('Frobenius norm squared for Z term: ' + str(decz))"
   ]
  },
  {
   "cell_type": "markdown",
   "metadata": {},
   "source": [
    "# Plotting\n",
    "Now that a sequence numerically satisfying the desired criteria has been found, we can examine its properties. Currently, the plotting features in this project are rudimentary, but some simple plots demonstrate that the optimization is functioning as desired.\n",
    "\n",
    "## Plot the control sequence itself\n",
    "First, just plot the amplitudes as a function of time."
   ]
  },
  {
   "cell_type": "code",
   "execution_count": 17,
   "metadata": {},
   "outputs": [
    {
     "data": {
      "image/png": "[encoded data removed]",
      "text/plain": [
       "<Figure size 432x288 with 1 Axes>"
      ]
     },
     "metadata": {},
     "output_type": "display_data"
    }
   ],
   "source": [
    "import control_plotting as cplot # import the plotting file\n",
    "\n",
    "cplot.step_plot(amps, dt)"
   ]
  },
  {
   "cell_type": "markdown",
   "metadata": {},
   "source": [
    "Note that each search will output a slightly different shape, but the searches that converge to a value close to $-4$ all seem to have roughly the same shape. This shape is somewhat like an XY4 sequence.\n",
    "\n",
    "The smoothness constraints ensure that the amplitude can't change much between time steps. Typically, when performing these searches:\n",
    "1. If, given all of the other constraints, the number of time steps is only just long enough for the objective to achieve the best possible value, the control sequence will tend to have nice structure.\n",
    "2. If the number of time steps is well beyond the minimum time required to achieve the objective function's optimal value, then it will tend to not have much structure. \n",
    "\n",
    "\n",
    "## Robustness plot \n",
    "\n",
    "Next, we plot the fidelity as a function of $\\epsilon$ with respect to variations of the generator of the form $\\epsilon(-i \\pi X)$,$\\epsilon(-i \\pi Y)$, and $\\epsilon(-i \\pi Z)$\n",
    "\n",
    "### Robustness in $X$:"
   ]
  },
  {
   "cell_type": "code",
   "execution_count": 21,
   "metadata": {},
   "outputs": [
    {
     "data": {
      "image/png": "[encoded data removed]",
      "text/plain": [
       "<Figure size 432x288 with 1 Axes>"
      ]
     },
     "metadata": {},
     "output_type": "display_data"
    }
   ],
   "source": [
    "# set the range of values of epsilon to check\n",
    "from numpy import linspace\n",
    "\n",
    "bound = 0.1\n",
    "steps = 100\n",
    "eps = linspace(-bound, bound, steps)\n",
    "x_var = -1j*pi*h.pauliX()\n",
    "\n",
    "cplot.target_robustness_1d(xy_sys, amps,dt, Utarget, x_var, eps)"
   ]
  },
  {
   "cell_type": "markdown",
   "metadata": {},
   "source": [
    "### Robustness in $Y$"
   ]
  },
  {
   "cell_type": "code",
   "execution_count": 22,
   "metadata": {},
   "outputs": [
    {
     "data": {
      "image/png": "[encoded data removed]",
      "text/plain": [
       "<Figure size 432x288 with 1 Axes>"
      ]
     },
     "metadata": {},
     "output_type": "display_data"
    }
   ],
   "source": [
    "y_var = -1j*pi*h.pauliY()\n",
    "cplot.target_robustness_1d(xy_sys, amps,dt, Utarget, y_var, eps)"
   ]
  },
  {
   "cell_type": "markdown",
   "metadata": {},
   "source": [
    "### Robustness in $Z$"
   ]
  },
  {
   "cell_type": "code",
   "execution_count": 23,
   "metadata": {},
   "outputs": [
    {
     "data": {
      "image/png": "[encoded data removed]",
      "text/plain": [
       "<Figure size 432x288 with 1 Axes>"
      ]
     },
     "metadata": {},
     "output_type": "display_data"
    }
   ],
   "source": [
    "z_var = -1j*pi*h.pauliZ()\n",
    "cplot.target_robustness_1d(xy_sys, amps,dt, Utarget, z_var, eps)"
   ]
  },
  {
   "cell_type": "markdown",
   "metadata": {},
   "source": [
    "### Robustness in some random direction\n",
    "\n",
    "The pulse is supposed to be universally robust, but so far we have plotted robustness for variations in the directions we had specified in the search. We can choose a random direction and plot the robustness for that."
   ]
  },
  {
   "cell_type": "code",
   "execution_count": 24,
   "metadata": {},
   "outputs": [
    {
     "data": {
      "image/png": "[encoded data removed]",
      "text/plain": [
       "<Figure size 432x288 with 1 Axes>"
      ]
     },
     "metadata": {},
     "output_type": "display_data"
    },
    {
     "name": "stdout",
     "output_type": "stream",
     "text": [
      "Direction: x=0.7029276787370504, y=0.037909027928561365, z=0.7102503671712206\n"
     ]
    }
   ],
   "source": [
    "# get a normalized vector\n",
    "from numpy.linalg import norm\n",
    "vec = rand(3)\n",
    "vec = vec/norm(vec)\n",
    "\n",
    "# variation in that direction\n",
    "r_var = -1j*pi*(vec[0]*h.pauliX() + vec[1]*h.pauliY()+vec[2]*h.pauliZ())\n",
    "\n",
    "cplot.target_robustness_1d(xy_sys, amps,dt, Utarget, r_var, eps)\n",
    "print('Direction: x=' + str(vec[0]) + ', y=' + str(vec[1]) + ', z=' + str(vec[2]))"
   ]
  },
  {
   "cell_type": "markdown",
   "metadata": {},
   "source": [
    "### Robustness comments\n",
    "\n",
    "As desired, the robustness plots are all flat at $\\epsilon = 0$. In terms of how wide the flat part of the plot is, the sequence appears to be much more robust against variations in the $Z$ direction than any other direction, which is perhaps to be expected as the controls lie in the $xy$ plane. \n",
    "\n",
    "The fidelity as a function of variations in a random direction is, as designed, also flat at $\\epsilon = 0$, though how wide the plateau is of course depends on the direction. "
   ]
  }
 ],
 "metadata": {
  "kernelspec": {
   "display_name": "Python 3",
   "language": "python",
   "name": "python3"
  },
  "language_info": {
   "codemirror_mode": {
    "name": "ipython",
    "version": 3
   },
   "file_extension": ".py",
   "mimetype": "text/x-python",
   "name": "python",
   "nbconvert_exporter": "python",
   "pygments_lexer": "ipython3",
   "version": "3.6.5"
  }
 },
 "nbformat": 4,
 "nbformat_minor": 2
}
