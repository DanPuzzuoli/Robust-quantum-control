{
 "cells": [
  {
   "cell_type": "markdown",
   "metadata": {},
   "source": [
    "# $X$ Gate robust to $Z$ using only $X$ control\n",
    "\n",
    "This file contains an example use case of the project. The setting here is that we have a qubit (quantum bit) with one control generator: the Pauli $X$ matrix. The goal is to find a control sequence implementing an X gate that is robust to first order for Pauli $Z$ variations in the generator.\n",
    "\n",
    "The interface with the code is not well developed, but this example demonstrates roughly how I picture the code to be used; as expected use cases can vary heavily, the idea is to provide various tools to make it easy to construct control problems."
   ]
  },
  {
   "cell_type": "code",
   "execution_count": 1,
   "metadata": {},
   "outputs": [],
   "source": [
    "# first, add the project the path\n",
    "import sys\n",
    "sys.path.append('../')\n",
    "\n",
    "# functions from outside the project that we'll need\n",
    "from math import pi\n",
    "from numpy import zeros,real\n",
    "from numpy.random import rand"
   ]
  },
  {
   "cell_type": "markdown",
   "metadata": {},
   "source": [
    "# Define the control system\n",
    "\n",
    "First, define the control system, which has 0 drift generator, and one control generator given by $-i\\pi X$.\n",
    "\n",
    "Afterwards, define the decoupling system, which is a system derived from the base system that also computes the first order robustness term for a variation $-i\\pi Z$ in the generator."
   ]
  },
  {
   "cell_type": "code",
   "execution_count": 2,
   "metadata": {},
   "outputs": [],
   "source": [
    "import hamiltonians as h # a file containing Pauli matrices\n",
    "from control_system import control_system # the control_system object\n",
    "\n",
    "drift_generator = zeros((2,2)) # zero generator\n",
    "control_generator = -1j*pi*h.pauliX() # pauli X control generator\n",
    "x_sys = control_system(drift_generator, control_generator) # create control_system instance\n",
    "\n",
    "# Define the derived decoupling system\n",
    "x_sys_dec_z = x_sys.decoupling_system(-1j*pi*h.pauliZ())"
   ]
  },
  {
   "cell_type": "markdown",
   "metadata": {},
   "source": [
    "# Set parameters of search\n",
    "The parameters we require:\n",
    "1. Number of time steps, $N$\n",
    "2. Length of each time step, $dt$\n",
    "3. Target gate $U_{target}$\n",
    "4. Bounds on the absolute value of the control amplitudes and tolerance\n",
    "5. Bounds on the rate of change of the control amplitudes and tolerance\n",
    "\n",
    "Note that, aside from number of time steps, the parameters set here are essentially arbitrary, and in practice would be set by the physical system of interest. The number of time steps here was arrived at by running the search on various values, until a value of $N$ was found for which:\n",
    "1. The objective function can be optimized to the best possible value.\n",
    "2. Decreasing $N$ by $1$ results in no (currently tested) searches achieving the best possible  objective value.\n",
    "Hence, the above two points suggest that the current value of $N$ is roughly the shortest possible value for which a control sequence with the desired properties exists."
   ]
  },
  {
   "cell_type": "code",
   "execution_count": 3,
   "metadata": {},
   "outputs": [],
   "source": [
    "N = 152 # number of time steps\n",
    "dt = 0.0125 # length of time step\n",
    "Utarget = h.pauliX() # target gate to implement is pauli X\n",
    "\n",
    "# Set bounds on the control amplitude and tolerance\n",
    "power_ub = 1 # upper bound\n",
    "power_lb = -1 # lower bound\n",
    "power_tol = 0.05 # tolerance\n",
    "\n",
    "# bounds on the control amplitude rate of change\n",
    "change_b = 0.025 # bound on rate\n",
    "change_tol = 0.005 # tolerance\n",
    "\n",
    "# set a variable storing the shape of a control sequence array\n",
    "# ctrl_shape = (# time steps, # control amplitudes)\n",
    "ctrl_shape = (N, 1)"
   ]
  },
  {
   "cell_type": "markdown",
   "metadata": {},
   "source": [
    "# Define the objective\n",
    "\n",
    "Next, define the objective. Components of the objective are:\n",
    "1. Optimizing the final gate to be $X$.\n",
    "2. Optimizing terms in the derived decoupling system quantifying robustness to $Z$ to be $0$\n",
    "3. Constraints on amplitude of the control sequence implemented as penalties.\n",
    "\n",
    "Note that objectives are currently assumed to take in a 2d array of shape ctrl_shape, and output a tuple (val, vald), where val is the value of the objective at the input, and vald is the jacobian of the objective at the input."
   ]
  },
  {
   "cell_type": "code",
   "execution_count": 4,
   "metadata": {},
   "outputs": [],
   "source": [
    "# import functions from the package to help\n",
    "from evolve_system import evolve_system # computes system propagator and derivatives\n",
    "from objective_functions import grape_objective, zero_block_objective # for gate and decoupling optimization\n",
    "from constraint_functions import mono_objective as penalty # for constraints as penalties\n",
    "\n",
    "# Construct an objective using ingredients provided by project\n",
    "def obj(amps):\n",
    "    prop = evolve_system(x_sys_dec_z, amps, dt, deriv = 1) #evolve the system\n",
    "\n",
    "    Ufinal = prop[0][0:2,0:2] # extract final unitary\n",
    "    Uderiv = prop[1][:,:,0:2,0:2] # extract jacobian of final unitary\n",
    "    \n",
    "    # target gate objective\n",
    "    g,gp = grape_objective(Utarget, (Ufinal,Uderiv), deriv = 1)\n",
    "    \n",
    "    # first order robustness objective\n",
    "    dec,decp= zero_block_objective(prop, 2, 0,1, deriv = 1)\n",
    "\n",
    "    # penalty and derivatives of pulse shape\n",
    "    shape,shaped = penalty(amps, power_lb, power_ub, power_tol, change_b, change_tol, deriv = 1)\n",
    "\n",
    "    # return a weighted combination (to be used in minimization)\n",
    "    return real(-g + dec+shape/20),real(-gp + decp+ shaped/20)"
   ]
  },
  {
   "cell_type": "markdown",
   "metadata": {},
   "source": [
    "# Run the optimization\n",
    "\n",
    "Currently, the optimizer used is the implementation of BFGS available in SciPy.\n",
    "\n",
    "Note:\n",
    "1. Best possible value of this objective is $-4$.\n",
    "2. With current parameters, often finds a solution within $10^{-10}$ of $-4$, but as the number of time steps seems to be at the edge of what is possible, it will not always find a good solution, and will need to be run again."
   ]
  },
  {
   "cell_type": "code",
   "execution_count": 6,
   "metadata": {},
   "outputs": [
    {
     "name": "stdout",
     "output_type": "stream",
     "text": [
      "Optimizing pulse...\n",
      "Value at evaluation 150: 21.319912603334338\n",
      "Value at evaluation 300: -3.9988544019044157\n",
      "Value at evaluation 450: -3.999993515262457\n",
      "Optimization terminated successfully.\n",
      "         Current function value: -4.000000\n",
      "         Iterations: 413\n",
      "         Function evaluations: 521\n",
      "         Gradient evaluations: 521\n",
      "Total time taken: 12.842772960662842\n"
     ]
    }
   ],
   "source": [
    "# import the optimizer\n",
    "from pulse_finders import find_pulse_bfgs\n",
    "\n",
    "update_rate = 150 # rate of printed updates\n",
    "initial_guess = rand(*ctrl_shape) # random initial guess\n",
    "\n",
    "results = find_pulse_bfgs(obj, ctrl_shape, initial_guess, update_rate) # run optimization"
   ]
  },
  {
   "cell_type": "code",
   "execution_count": 7,
   "metadata": {},
   "outputs": [
    {
     "data": {
      "text/plain": [
       "-3.552713678800501e-15"
      ]
     },
     "execution_count": 7,
     "metadata": {},
     "output_type": "execute_result"
    }
   ],
   "source": [
    "amps = results.x # get the control sequence from the results object\n",
    "4+results.fun # check the value achieved"
   ]
  },
  {
   "cell_type": "markdown",
   "metadata": {},
   "source": [
    "# Plotting\n",
    "Now that a sequence numerically satisfying the desired criteria has been found, we can examine its properties. Currently, the plotting features in this project are rudimentary, but some simple plots demonstrate that the optimization is functioning as desired.\n",
    "\n",
    "## Plot the control sequence itself\n",
    "First, just plot the amplitudes as a function of time."
   ]
  },
  {
   "cell_type": "code",
   "execution_count": 9,
   "metadata": {},
   "outputs": [
    {
     "data": {
      "image/png": "[encoded data removed]",
      "text/plain": [
       "<Figure size 432x288 with 1 Axes>"
      ]
     },
     "metadata": {},
     "output_type": "display_data"
    }
   ],
   "source": [
    "import control_plotting as cplot # import the plotting file\n",
    "\n",
    "cplot.step_plot(amps, dt)"
   ]
  },
  {
   "cell_type": "markdown",
   "metadata": {},
   "source": [
    "The sequence has an interesting shape. The smoothness constraints ensure that the amplitude can't change much between time steps. Typically, when performing these searches:\n",
    "1. If, given all of the other constraints, the number of time steps is only just long enough for the objective to achieve the best possible value, the control sequence will tend to have nice structure.\n",
    "2. If the number of time steps is well beyond the minimum time required to achieve the objective function's optimal value, then it will tend to not have much structure. \n",
    "\n",
    "### Robustness to variations in $X$ \n",
    "\n",
    "Next, plot the fidelity of the final gate as a function of $\\epsilon$ with respect to variations in the generator of the form $\\epsilon(-i \\pi Z)$."
   ]
  },
  {
   "cell_type": "code",
   "execution_count": 10,
   "metadata": {},
   "outputs": [
    {
     "data": {
      "image/png": "[encoded data removed]",
      "text/plain": [
       "<Figure size 432x288 with 1 Axes>"
      ]
     },
     "metadata": {},
     "output_type": "display_data"
    }
   ],
   "source": [
    "# set the range of values of epsilon to check\n",
    "from numpy import linspace\n",
    "\n",
    "bound = 0.15\n",
    "steps = 100\n",
    "eps = linspace(-bound, bound, steps)\n",
    "generator_variation = -1j*pi*h.pauliZ()\n",
    "\n",
    "cplot.target_robustness_1d(x_sys, amps,dt, Utarget, generator_variation, eps)"
   ]
  },
  {
   "cell_type": "markdown",
   "metadata": {},
   "source": [
    "As the above plot shows, a high fidelity is achieved for a range of values of $\\epsilon$, and in particular, the fidelity function is flat at $\\epsilon = 0$, as desired."
   ]
  }
 ],
 "metadata": {
  "kernelspec": {
   "display_name": "Python 3",
   "language": "python",
   "name": "python3"
  },
  "language_info": {
   "codemirror_mode": {
    "name": "ipython",
    "version": 3
   },
   "file_extension": ".py",
   "mimetype": "text/x-python",
   "name": "python",
   "nbconvert_exporter": "python",
   "pygments_lexer": "ipython3",
   "version": "3.6.5"
  }
 },
 "nbformat": 4,
 "nbformat_minor": 2
}
